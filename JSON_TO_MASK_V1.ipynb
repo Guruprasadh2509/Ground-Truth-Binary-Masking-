{
 "cells": [
  {
   "cell_type": "markdown",
   "metadata": {},
   "source": [
    "### Install mrcnn librarary"
   ]
  },
  {
   "cell_type": "code",
   "execution_count": 53,
   "metadata": {
    "colab": {
     "base_uri": "https://localhost:8080/",
     "height": 34
    },
    "colab_type": "code",
    "id": "vxrie0CWPPcg",
    "outputId": "8081d4f2-2c91-4e2c-8029-51c293f7f593"
   },
   "outputs": [
    {
     "name": "stdout",
     "output_type": "stream",
     "text": [
      "Requirement already satisfied: mrcnn in /usr/local/lib/python3.6/dist-packages (0.2)\n"
     ]
    }
   ],
   "source": [
    "#install mrcnn library\n",
    "!pip install mrcnn"
   ]
  },
  {
   "cell_type": "markdown",
   "metadata": {},
   "source": [
    "#### Importing Libraries"
   ]
  },
  {
   "cell_type": "code",
   "execution_count": 1,
   "metadata": {
    "colab": {
     "base_uri": "https://localhost:8080/",
     "height": 81
    },
    "colab_type": "code",
    "id": "VCU2b8V3PRt3",
    "outputId": "9d56ff60-0fb4-41b4-99c6-0b751c147045"
   },
   "outputs": [
    {
     "name": "stderr",
     "output_type": "stream",
     "text": [
      "Using TensorFlow backend.\n"
     ]
    }
   ],
   "source": [
    "import sys\n",
    "import json\n",
    "import numpy as np\n",
    "import matplotlib\n",
    "import matplotlib.pyplot as plt\n",
    "import matplotlib.patches as patches\n",
    "import matplotlib.lines as lines\n",
    "from matplotlib.patches import Polygon\n",
    "from mrcnn import utils\n",
    "from mrcnn import visualize\n",
    "from mrcnn.visualize import display_images\n",
    "from mrcnn import model\n",
    "import mrcnn.model as modellib\n",
    "from mrcnn.model import log\n",
    "import cv2\n",
    "import os\n",
    "#place custom_1.py inside the folder where this ipynb is run\n",
    "import custom_1 "
   ]
  },
  {
   "cell_type": "markdown",
   "metadata": {
    "colab_type": "text",
    "id": "Brip97xRMWyE"
   },
   "source": [
    "### Ground Truth Data Generation"
   ]
  },
  {
   "cell_type": "code",
   "execution_count": 4,
   "metadata": {
    "colab": {
     "base_uri": "https://localhost:8080/",
     "height": 86
    },
    "colab_type": "code",
    "id": "kHkHKiEjQQvH",
    "outputId": "3db3ca23-4d2e-4612-a950-46fbc19655aa"
   },
   "outputs": [
    {
     "data": {
      "text/plain": [
       "'\\nprint(\"Image Count: {}\".format(len(dataset.image_ids)))\\nprint(\"Class Count: {}\".format(dataset.num_classes))\\nfor i, info in enumerate(dataset.class_info):\\n    print(\"{:3}. {:50}\".format(i, info[\\'name\\']))\\n'"
      ]
     },
     "execution_count": 4,
     "metadata": {},
     "output_type": "execute_result"
    }
   ],
   "source": [
    "# Load dataset\n",
    "dataset = custom_1.CustomDataset()\n",
    "custom_DIR = ROOT_DIRECTORY\n",
    "#place your json file inside train folder\n",
    "dataset.load_custom(custom_DIR, \"train\")\n",
    "# Must call before using the dataset\n",
    "dataset.prepare()\n",
    "\n",
    "print(\"Image Count: {}\".format(len(dataset.image_ids)))\n",
    "print(\"Class Count: {}\".format(dataset.num_classes))\n",
    "for i, info in enumerate(dataset.class_info):\n",
    "    print(\"{:3}. {:50}\".format(i, info['name']))"
   ]
  },
  {
   "cell_type": "code",
   "execution_count": 5,
   "metadata": {
    "colab": {},
    "colab_type": "code",
    "id": "PtEMCmSUU_xZ"
   },
   "outputs": [],
   "source": [
    "#image_ids = np.random.choice(dataset.image_ids, 60)\n",
    "os.chdir('ROOT_DIRECTORY\\\\train_masked')\n",
    "index = dataset.image_ids\n",
    "#index=range(1,5)\n",
    "#print(image_ids)\n",
    "to_display = []\n",
    "titles = []\n",
    "for image_id in index:\n",
    "    image = dataset.load_image(image_id)\n",
    "    mask, class_ids = dataset.load_mask(image_id)\n",
    "    #mask=mask[:,:,-1]\n",
    "    # Pick top prominent classes in this image\n",
    "    unique_class_ids = np.unique(class_ids)\n",
    "    #print(unique_class_ids)\n",
    "    mask_area = [np.sum(mask[:, :, np.where(class_ids == i)[0]]) for i in unique_class_ids]\n",
    "    top_ids = [v[0] for v in sorted(zip(unique_class_ids, mask_area),key=lambda r: r[1], reverse=True) if v[1] > 0]\n",
    "    \n",
    "    # Generate images and titles\n",
    "    for i in range(1):\n",
    "        class_id = top_ids[i] if i < len(top_ids) else -1\n",
    "        # Pull masks of instances belonging to the same class.\n",
    "        m = mask[:, :, np.where(class_ids == class_id)[0]]\n",
    "        m = np.sum(m * np.arange(1, m.shape[-1] +1), -1)\n",
    "        m[m>1]=1\n",
    "        #print(np.unique(m))\n",
    "        to_display.append(m)\n",
    "        titles.append(dataset.class_names[class_id] if class_id != -1 else \"-\")\n",
    "        mask = 'masked_'+dataset.image_info[image_id]['id']\n",
    "        #print(m.shape)\n",
    "        plt.imsave(mask,m)"
   ]
  },
  {
   "cell_type": "markdown",
   "metadata": {},
   "source": [
    "### Read the binary masked image using Opencv\n",
    "##### Ideally, background will be having the value of 30 and foreground with value of 215.\n",
    "##### Inorder to make it to 0's and 1's , we will replace 30 with 0 and 215 with 1."
   ]
  },
  {
   "cell_type": "code",
   "execution_count": 10,
   "metadata": {
    "colab": {
     "base_uri": "https://localhost:8080/",
     "height": 304
    },
    "colab_type": "code",
    "id": "Jv1qLiQb3b8p",
    "outputId": "6932a16e-517c-47c0-820a-734380432ba3"
   },
   "outputs": [
    {
     "name": "stdout",
     "output_type": "stream",
     "text": [
      "Befpre Conversion [ 30 215]\n",
      "After Conversion [0 1]\n"
     ]
    }
   ],
   "source": [
    "a=cv2.imread('masked_filename.png',0)\n",
    "print('Befpre Conversion',np.unique(a))\n",
    "a[a==30]=0\n",
    "a[a==215]=1\n",
    "print('After Conversion',np.unique(a))\n",
    "#plt.imshow(a)"
   ]
  }
 ],
 "metadata": {
  "accelerator": "GPU",
  "colab": {
   "collapsed_sections": [],
   "name": "JSON_TO_MASK.ipynb",
   "provenance": []
  },
  "kernelspec": {
   "display_name": "Python 3",
   "language": "python",
   "name": "python3"
  },
  "language_info": {
   "codemirror_mode": {
    "name": "ipython",
    "version": 3
   },
   "file_extension": ".py",
   "mimetype": "text/x-python",
   "name": "python",
   "nbconvert_exporter": "python",
   "pygments_lexer": "ipython3",
   "version": "3.7.3"
  }
 },
 "nbformat": 4,
 "nbformat_minor": 1
}
